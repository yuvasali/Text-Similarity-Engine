{
 "cells": [
  {
   "cell_type": "code",
   "execution_count": 1,
   "id": "406aa418-c859-4f2c-a6bf-469841066dba",
   "metadata": {},
   "outputs": [],
   "source": [
    "import pandas as pd"
   ]
  },
  {
   "cell_type": "code",
   "execution_count": 2,
   "id": "761b376b-ddc3-4d97-b41d-5ab2691a2df6",
   "metadata": {},
   "outputs": [],
   "source": [
    "import numpy as pd"
   ]
  },
  {
   "cell_type": "code",
   "execution_count": 3,
   "id": "d5abe0f7-adcc-44f6-aed6-01ad2d48faf0",
   "metadata": {},
   "outputs": [
    {
     "name": "stderr",
     "output_type": "stream",
     "text": [
      "[nltk_data] Downloading package punkt to C:\\Users\\SYSTEM\n",
      "[nltk_data]     53\\AppData\\Roaming\\nltk_data...\n",
      "[nltk_data]   Package punkt is already up-to-date!\n",
      "[nltk_data] Downloading package stopwords to C:\\Users\\SYSTEM\n",
      "[nltk_data]     53\\AppData\\Roaming\\nltk_data...\n",
      "[nltk_data]   Package stopwords is already up-to-date!\n"
     ]
    },
    {
     "data": {
      "text/plain": [
       "True"
      ]
     },
     "execution_count": 3,
     "metadata": {},
     "output_type": "execute_result"
    }
   ],
   "source": [
    "import nltk\n",
    "from nltk.corpus import stopwords\n",
    "from nltk.tokenize import word_tokenize\n",
    "import pandas as pd\n",
    "import numpy as np\n",
    "from sklearn.feature_extraction.text import TfidfVectorizer\n",
    "from sklearn.metrics.pairwise import cosine_similarity\n",
    "\n",
    "# Download NLTK data\n",
    "nltk.download('punkt')\n",
    "nltk.download('stopwords')"
   ]
  },
  {
   "cell_type": "code",
   "execution_count": 4,
   "id": "a9bd7444-8796-4dac-a2ab-9aadadba6dab",
   "metadata": {},
   "outputs": [],
   "source": [
    "def preprocess(text):\n",
    "    # Lowercase\n",
    "    text = text.lower()\n",
    "    # Tokenize\n",
    "    tokens = word_tokenize(text)\n",
    "    # Remove stopwords\n",
    "    tokens = [word for word in tokens if word.isalnum() and word not in stopwords.words('english')]\n",
    "    return \" \".join(tokens)"
   ]
  },
  {
   "cell_type": "code",
   "execution_count": 5,
   "id": "d6403cc0-1e4f-4708-89a2-a86af3e7ccf3",
   "metadata": {},
   "outputs": [],
   "source": [
    "df=pd.read_csv(\"train.csv\")"
   ]
  },
  {
   "cell_type": "code",
   "execution_count": 6,
   "id": "2e23019e-b8a5-4bf0-b789-cddbc3ac1980",
   "metadata": {},
   "outputs": [
    {
     "name": "stderr",
     "output_type": "stream",
     "text": [
      "[nltk_data] Downloading package punkt to C:\\Users\\SYSTEM\n",
      "[nltk_data]     53\\AppData\\Roaming\\nltk_data...\n",
      "[nltk_data]   Package punkt is already up-to-date!\n"
     ]
    },
    {
     "data": {
      "text/plain": [
       "True"
      ]
     },
     "execution_count": 6,
     "metadata": {},
     "output_type": "execute_result"
    }
   ],
   "source": [
    "import nltk\n",
    "nltk.download('punkt')"
   ]
  },
  {
   "cell_type": "code",
   "execution_count": 7,
   "id": "67bcf4fc-7e27-412d-9444-cb5c6a549c76",
   "metadata": {},
   "outputs": [
    {
     "name": "stdout",
     "output_type": "stream",
     "text": [
      "<class 'pandas.core.frame.DataFrame'>\n",
      "RangeIndex: 2142 entries, 0 to 2141\n",
      "Data columns (total 6 columns):\n",
      " #   Column         Non-Null Count  Dtype \n",
      "---  ------         --------------  ----- \n",
      " 0   Unnamed: 0     2142 non-null   int64 \n",
      " 1   description_x  2142 non-null   object\n",
      " 2   description_y  2142 non-null   object\n",
      " 3   ticker_x       2142 non-null   object\n",
      " 4   ticker_y       2142 non-null   object\n",
      " 5   same_security  2142 non-null   bool  \n",
      "dtypes: bool(1), int64(1), object(4)\n",
      "memory usage: 85.9+ KB\n"
     ]
    }
   ],
   "source": [
    "df.info()"
   ]
  },
  {
   "cell_type": "code",
   "execution_count": 8,
   "id": "c9125baa-b05f-4dd3-b551-2a82fc9ed969",
   "metadata": {},
   "outputs": [
    {
     "data": {
      "text/plain": [
       "(2142, 6)"
      ]
     },
     "execution_count": 8,
     "metadata": {},
     "output_type": "execute_result"
    }
   ],
   "source": [
    "df.shape"
   ]
  },
  {
   "cell_type": "code",
   "execution_count": 9,
   "id": "1d0a8a41-7b92-4470-896c-cdc220d65d4a",
   "metadata": {},
   "outputs": [
    {
     "data": {
      "text/plain": [
       "<bound method NDFrame.head of       Unnamed: 0                                      description_x  \\\n",
       "0              0                     first trust dow jones internet   \n",
       "1              1                schwab intl large company index etf   \n",
       "2              2                       vanguard small cap index adm   \n",
       "3              3  duke energy corp new com new isin #us4 sedol #...   \n",
       "4              4                                   visa inc class a   \n",
       "...          ...                                                ...   \n",
       "2137        2137                            delta air lines inc com   \n",
       "2138        2138                           cognizant tech solutns a   \n",
       "2139        2139  pimco investment grade corporate bond fund - c...   \n",
       "2140        2140                                 eli lilly & co com   \n",
       "2141        2141                                dfa comm strategy i   \n",
       "\n",
       "                                          description_y ticker_x ticker_y  \\\n",
       "0                           first trust dj internet idx      FDN      FDN   \n",
       "1     schwab strategic tr fundamental intl large co ...     FNDF     FNDF   \n",
       "2                    vanguard small-cap index fund inst    VSMAX    VSCIX   \n",
       "3     duke energy corp new com new isin #us26441c204...      DUK      DUK   \n",
       "4                                             visa inc.        V        V   \n",
       "...                                                 ...      ...      ...   \n",
       "2137                       delta air lines inc dela new      DAL      DAL   \n",
       "2138                      cognizant tech solutions corp     CTSH     CTSH   \n",
       "2139                  fid conservative income bond fund    PBDAX    FCONX   \n",
       "2140                              lilly eli &co com npv      LLY      LLY   \n",
       "2141                        dfa commodity strategy port    DCMSX    DCMSX   \n",
       "\n",
       "      same_security  \n",
       "0              True  \n",
       "1              True  \n",
       "2             False  \n",
       "3              True  \n",
       "4              True  \n",
       "...             ...  \n",
       "2137           True  \n",
       "2138           True  \n",
       "2139          False  \n",
       "2140           True  \n",
       "2141           True  \n",
       "\n",
       "[2142 rows x 6 columns]>"
      ]
     },
     "execution_count": 9,
     "metadata": {},
     "output_type": "execute_result"
    }
   ],
   "source": [
    "df.head"
   ]
  },
  {
   "cell_type": "code",
   "execution_count": 10,
   "id": "2651c40b-badf-4c66-bbfd-4ba34c30cc72",
   "metadata": {},
   "outputs": [
    {
     "data": {
      "text/plain": [
       "<bound method NDFrame.tail of       Unnamed: 0                                      description_x  \\\n",
       "0              0                     first trust dow jones internet   \n",
       "1              1                schwab intl large company index etf   \n",
       "2              2                       vanguard small cap index adm   \n",
       "3              3  duke energy corp new com new isin #us4 sedol #...   \n",
       "4              4                                   visa inc class a   \n",
       "...          ...                                                ...   \n",
       "2137        2137                            delta air lines inc com   \n",
       "2138        2138                           cognizant tech solutns a   \n",
       "2139        2139  pimco investment grade corporate bond fund - c...   \n",
       "2140        2140                                 eli lilly & co com   \n",
       "2141        2141                                dfa comm strategy i   \n",
       "\n",
       "                                          description_y ticker_x ticker_y  \\\n",
       "0                           first trust dj internet idx      FDN      FDN   \n",
       "1     schwab strategic tr fundamental intl large co ...     FNDF     FNDF   \n",
       "2                    vanguard small-cap index fund inst    VSMAX    VSCIX   \n",
       "3     duke energy corp new com new isin #us26441c204...      DUK      DUK   \n",
       "4                                             visa inc.        V        V   \n",
       "...                                                 ...      ...      ...   \n",
       "2137                       delta air lines inc dela new      DAL      DAL   \n",
       "2138                      cognizant tech solutions corp     CTSH     CTSH   \n",
       "2139                  fid conservative income bond fund    PBDAX    FCONX   \n",
       "2140                              lilly eli &co com npv      LLY      LLY   \n",
       "2141                        dfa commodity strategy port    DCMSX    DCMSX   \n",
       "\n",
       "      same_security  \n",
       "0              True  \n",
       "1              True  \n",
       "2             False  \n",
       "3              True  \n",
       "4              True  \n",
       "...             ...  \n",
       "2137           True  \n",
       "2138           True  \n",
       "2139          False  \n",
       "2140           True  \n",
       "2141           True  \n",
       "\n",
       "[2142 rows x 6 columns]>"
      ]
     },
     "execution_count": 10,
     "metadata": {},
     "output_type": "execute_result"
    }
   ],
   "source": [
    "df.tail"
   ]
  },
  {
   "cell_type": "code",
   "execution_count": 11,
   "id": "77993215-db2d-48a8-8a6a-b272131aac33",
   "metadata": {},
   "outputs": [
    {
     "data": {
      "text/plain": [
       "<bound method NDFrame.describe of       Unnamed: 0                                      description_x  \\\n",
       "0              0                     first trust dow jones internet   \n",
       "1              1                schwab intl large company index etf   \n",
       "2              2                       vanguard small cap index adm   \n",
       "3              3  duke energy corp new com new isin #us4 sedol #...   \n",
       "4              4                                   visa inc class a   \n",
       "...          ...                                                ...   \n",
       "2137        2137                            delta air lines inc com   \n",
       "2138        2138                           cognizant tech solutns a   \n",
       "2139        2139  pimco investment grade corporate bond fund - c...   \n",
       "2140        2140                                 eli lilly & co com   \n",
       "2141        2141                                dfa comm strategy i   \n",
       "\n",
       "                                          description_y ticker_x ticker_y  \\\n",
       "0                           first trust dj internet idx      FDN      FDN   \n",
       "1     schwab strategic tr fundamental intl large co ...     FNDF     FNDF   \n",
       "2                    vanguard small-cap index fund inst    VSMAX    VSCIX   \n",
       "3     duke energy corp new com new isin #us26441c204...      DUK      DUK   \n",
       "4                                             visa inc.        V        V   \n",
       "...                                                 ...      ...      ...   \n",
       "2137                       delta air lines inc dela new      DAL      DAL   \n",
       "2138                      cognizant tech solutions corp     CTSH     CTSH   \n",
       "2139                  fid conservative income bond fund    PBDAX    FCONX   \n",
       "2140                              lilly eli &co com npv      LLY      LLY   \n",
       "2141                        dfa commodity strategy port    DCMSX    DCMSX   \n",
       "\n",
       "      same_security  \n",
       "0              True  \n",
       "1              True  \n",
       "2             False  \n",
       "3              True  \n",
       "4              True  \n",
       "...             ...  \n",
       "2137           True  \n",
       "2138           True  \n",
       "2139          False  \n",
       "2140           True  \n",
       "2141           True  \n",
       "\n",
       "[2142 rows x 6 columns]>"
      ]
     },
     "execution_count": 11,
     "metadata": {},
     "output_type": "execute_result"
    }
   ],
   "source": [
    "df.describe"
   ]
  },
  {
   "cell_type": "code",
   "execution_count": 12,
   "id": "b589a791-6266-4792-b863-db8c4ac95d33",
   "metadata": {},
   "outputs": [
    {
     "data": {
      "text/plain": [
       "Index(['Unnamed: 0', 'description_x', 'description_y', 'ticker_x', 'ticker_y',\n",
       "       'same_security'],\n",
       "      dtype='object')"
      ]
     },
     "execution_count": 12,
     "metadata": {},
     "output_type": "execute_result"
    }
   ],
   "source": [
    "df.columns"
   ]
  },
  {
   "cell_type": "code",
   "execution_count": 13,
   "id": "dea70745-f0ef-42f0-bf34-2f1305009ab7",
   "metadata": {},
   "outputs": [
    {
     "data": {
      "text/plain": [
       "<bound method NDFrame.keys of       Unnamed: 0                                      description_x  \\\n",
       "0              0                     first trust dow jones internet   \n",
       "1              1                schwab intl large company index etf   \n",
       "2              2                       vanguard small cap index adm   \n",
       "3              3  duke energy corp new com new isin #us4 sedol #...   \n",
       "4              4                                   visa inc class a   \n",
       "...          ...                                                ...   \n",
       "2137        2137                            delta air lines inc com   \n",
       "2138        2138                           cognizant tech solutns a   \n",
       "2139        2139  pimco investment grade corporate bond fund - c...   \n",
       "2140        2140                                 eli lilly & co com   \n",
       "2141        2141                                dfa comm strategy i   \n",
       "\n",
       "                                          description_y ticker_x ticker_y  \\\n",
       "0                           first trust dj internet idx      FDN      FDN   \n",
       "1     schwab strategic tr fundamental intl large co ...     FNDF     FNDF   \n",
       "2                    vanguard small-cap index fund inst    VSMAX    VSCIX   \n",
       "3     duke energy corp new com new isin #us26441c204...      DUK      DUK   \n",
       "4                                             visa inc.        V        V   \n",
       "...                                                 ...      ...      ...   \n",
       "2137                       delta air lines inc dela new      DAL      DAL   \n",
       "2138                      cognizant tech solutions corp     CTSH     CTSH   \n",
       "2139                  fid conservative income bond fund    PBDAX    FCONX   \n",
       "2140                              lilly eli &co com npv      LLY      LLY   \n",
       "2141                        dfa commodity strategy port    DCMSX    DCMSX   \n",
       "\n",
       "      same_security  \n",
       "0              True  \n",
       "1              True  \n",
       "2             False  \n",
       "3              True  \n",
       "4              True  \n",
       "...             ...  \n",
       "2137           True  \n",
       "2138           True  \n",
       "2139          False  \n",
       "2140           True  \n",
       "2141           True  \n",
       "\n",
       "[2142 rows x 6 columns]>"
      ]
     },
     "execution_count": 13,
     "metadata": {},
     "output_type": "execute_result"
    }
   ],
   "source": [
    "df.keys"
   ]
  },
  {
   "cell_type": "code",
   "execution_count": 14,
   "id": "33459ff8-2283-42b7-9e8a-2c263ed319c0",
   "metadata": {},
   "outputs": [
    {
     "data": {
      "text/plain": [
       "Unnamed: 0        int64\n",
       "description_x    object\n",
       "description_y    object\n",
       "ticker_x         object\n",
       "ticker_y         object\n",
       "same_security      bool\n",
       "dtype: object"
      ]
     },
     "execution_count": 14,
     "metadata": {},
     "output_type": "execute_result"
    }
   ],
   "source": [
    "df.dtypes"
   ]
  },
  {
   "cell_type": "code",
   "execution_count": 15,
   "id": "66e0e8c6-bf7c-4e26-ad03-0a7505f0918a",
   "metadata": {},
   "outputs": [
    {
     "data": {
      "text/plain": [
       "Unnamed: 0                                    0\n",
       "description_x    first trust dow jones internet\n",
       "description_y       first trust dj internet idx\n",
       "ticker_x                                    FDN\n",
       "ticker_y                                    FDN\n",
       "same_security                              True\n",
       "Name: 0, dtype: object"
      ]
     },
     "execution_count": 15,
     "metadata": {},
     "output_type": "execute_result"
    }
   ],
   "source": [
    "df.iloc[0]"
   ]
  },
  {
   "cell_type": "code",
   "execution_count": 16,
   "id": "ce5a171c-8c6c-4293-b79a-49575cc71694",
   "metadata": {},
   "outputs": [
    {
     "data": {
      "text/plain": [
       "Unnamed: 0                                                       1\n",
       "description_x                  schwab intl large company index etf\n",
       "description_y    schwab strategic tr fundamental intl large co ...\n",
       "ticker_x                                                      FNDF\n",
       "ticker_y                                                      FNDF\n",
       "same_security                                                 True\n",
       "Name: 1, dtype: object"
      ]
     },
     "execution_count": 16,
     "metadata": {},
     "output_type": "execute_result"
    }
   ],
   "source": [
    "df.iloc[1]"
   ]
  },
  {
   "cell_type": "code",
   "execution_count": 17,
   "id": "b7a57def-e41b-45a4-af0d-3ed1955408ae",
   "metadata": {},
   "outputs": [
    {
     "data": {
      "text/plain": [
       "Unnamed: 0                                                       3\n",
       "description_x    duke energy corp new com new isin #us4 sedol #...\n",
       "description_y    duke energy corp new com new isin #us26441c204...\n",
       "ticker_x                                                       DUK\n",
       "ticker_y                                                       DUK\n",
       "same_security                                                 True\n",
       "Name: 3, dtype: object"
      ]
     },
     "execution_count": 17,
     "metadata": {},
     "output_type": "execute_result"
    }
   ],
   "source": [
    "df.iloc[3]"
   ]
  },
  {
   "cell_type": "code",
   "execution_count": 18,
   "id": "68c86548-96e9-4c6b-b6ae-6e571d7232fe",
   "metadata": {},
   "outputs": [
    {
     "data": {
      "text/plain": [
       "Unnamed: 0       0\n",
       "description_x    0\n",
       "description_y    0\n",
       "ticker_x         0\n",
       "ticker_y         0\n",
       "same_security    0\n",
       "dtype: int64"
      ]
     },
     "execution_count": 18,
     "metadata": {},
     "output_type": "execute_result"
    }
   ],
   "source": [
    "df.isnull().sum()"
   ]
  },
  {
   "cell_type": "code",
   "execution_count": 19,
   "id": "c3ba82d4-c747-40e9-904f-826ed4d36f91",
   "metadata": {},
   "outputs": [
    {
     "data": {
      "text/html": [
       "<div>\n",
       "<style scoped>\n",
       "    .dataframe tbody tr th:only-of-type {\n",
       "        vertical-align: middle;\n",
       "    }\n",
       "\n",
       "    .dataframe tbody tr th {\n",
       "        vertical-align: top;\n",
       "    }\n",
       "\n",
       "    .dataframe thead th {\n",
       "        text-align: right;\n",
       "    }\n",
       "</style>\n",
       "<table border=\"1\" class=\"dataframe\">\n",
       "  <thead>\n",
       "    <tr style=\"text-align: right;\">\n",
       "      <th></th>\n",
       "      <th>Unnamed: 0</th>\n",
       "      <th>description_x</th>\n",
       "      <th>description_y</th>\n",
       "      <th>ticker_x</th>\n",
       "      <th>ticker_y</th>\n",
       "      <th>same_security</th>\n",
       "    </tr>\n",
       "  </thead>\n",
       "  <tbody>\n",
       "    <tr>\n",
       "      <th>0</th>\n",
       "      <td>0</td>\n",
       "      <td>first trust dow jones internet</td>\n",
       "      <td>first trust dj internet idx</td>\n",
       "      <td>FDN</td>\n",
       "      <td>FDN</td>\n",
       "      <td>True</td>\n",
       "    </tr>\n",
       "    <tr>\n",
       "      <th>1</th>\n",
       "      <td>1</td>\n",
       "      <td>schwab intl large company index etf</td>\n",
       "      <td>schwab strategic tr fundamental intl large co ...</td>\n",
       "      <td>FNDF</td>\n",
       "      <td>FNDF</td>\n",
       "      <td>True</td>\n",
       "    </tr>\n",
       "    <tr>\n",
       "      <th>2</th>\n",
       "      <td>2</td>\n",
       "      <td>vanguard small cap index adm</td>\n",
       "      <td>vanguard small-cap index fund inst</td>\n",
       "      <td>VSMAX</td>\n",
       "      <td>VSCIX</td>\n",
       "      <td>False</td>\n",
       "    </tr>\n",
       "    <tr>\n",
       "      <th>3</th>\n",
       "      <td>3</td>\n",
       "      <td>duke energy corp new com new isin #us4 sedol #...</td>\n",
       "      <td>duke energy corp new com new isin #us26441c204...</td>\n",
       "      <td>DUK</td>\n",
       "      <td>DUK</td>\n",
       "      <td>True</td>\n",
       "    </tr>\n",
       "    <tr>\n",
       "      <th>4</th>\n",
       "      <td>4</td>\n",
       "      <td>visa inc class a</td>\n",
       "      <td>visa inc.</td>\n",
       "      <td>V</td>\n",
       "      <td>V</td>\n",
       "      <td>True</td>\n",
       "    </tr>\n",
       "    <tr>\n",
       "      <th>...</th>\n",
       "      <td>...</td>\n",
       "      <td>...</td>\n",
       "      <td>...</td>\n",
       "      <td>...</td>\n",
       "      <td>...</td>\n",
       "      <td>...</td>\n",
       "    </tr>\n",
       "    <tr>\n",
       "      <th>2137</th>\n",
       "      <td>2137</td>\n",
       "      <td>delta air lines inc com</td>\n",
       "      <td>delta air lines inc dela new</td>\n",
       "      <td>DAL</td>\n",
       "      <td>DAL</td>\n",
       "      <td>True</td>\n",
       "    </tr>\n",
       "    <tr>\n",
       "      <th>2138</th>\n",
       "      <td>2138</td>\n",
       "      <td>cognizant tech solutns a</td>\n",
       "      <td>cognizant tech solutions corp</td>\n",
       "      <td>CTSH</td>\n",
       "      <td>CTSH</td>\n",
       "      <td>True</td>\n",
       "    </tr>\n",
       "    <tr>\n",
       "      <th>2139</th>\n",
       "      <td>2139</td>\n",
       "      <td>pimco investment grade corporate bond fund - c...</td>\n",
       "      <td>fid conservative income bond fund</td>\n",
       "      <td>PBDAX</td>\n",
       "      <td>FCONX</td>\n",
       "      <td>False</td>\n",
       "    </tr>\n",
       "    <tr>\n",
       "      <th>2140</th>\n",
       "      <td>2140</td>\n",
       "      <td>eli lilly &amp; co com</td>\n",
       "      <td>lilly eli &amp;co com npv</td>\n",
       "      <td>LLY</td>\n",
       "      <td>LLY</td>\n",
       "      <td>True</td>\n",
       "    </tr>\n",
       "    <tr>\n",
       "      <th>2141</th>\n",
       "      <td>2141</td>\n",
       "      <td>dfa comm strategy i</td>\n",
       "      <td>dfa commodity strategy port</td>\n",
       "      <td>DCMSX</td>\n",
       "      <td>DCMSX</td>\n",
       "      <td>True</td>\n",
       "    </tr>\n",
       "  </tbody>\n",
       "</table>\n",
       "<p>2142 rows × 6 columns</p>\n",
       "</div>"
      ],
      "text/plain": [
       "      Unnamed: 0                                      description_x  \\\n",
       "0              0                     first trust dow jones internet   \n",
       "1              1                schwab intl large company index etf   \n",
       "2              2                       vanguard small cap index adm   \n",
       "3              3  duke energy corp new com new isin #us4 sedol #...   \n",
       "4              4                                   visa inc class a   \n",
       "...          ...                                                ...   \n",
       "2137        2137                            delta air lines inc com   \n",
       "2138        2138                           cognizant tech solutns a   \n",
       "2139        2139  pimco investment grade corporate bond fund - c...   \n",
       "2140        2140                                 eli lilly & co com   \n",
       "2141        2141                                dfa comm strategy i   \n",
       "\n",
       "                                          description_y ticker_x ticker_y  \\\n",
       "0                           first trust dj internet idx      FDN      FDN   \n",
       "1     schwab strategic tr fundamental intl large co ...     FNDF     FNDF   \n",
       "2                    vanguard small-cap index fund inst    VSMAX    VSCIX   \n",
       "3     duke energy corp new com new isin #us26441c204...      DUK      DUK   \n",
       "4                                             visa inc.        V        V   \n",
       "...                                                 ...      ...      ...   \n",
       "2137                       delta air lines inc dela new      DAL      DAL   \n",
       "2138                      cognizant tech solutions corp     CTSH     CTSH   \n",
       "2139                  fid conservative income bond fund    PBDAX    FCONX   \n",
       "2140                              lilly eli &co com npv      LLY      LLY   \n",
       "2141                        dfa commodity strategy port    DCMSX    DCMSX   \n",
       "\n",
       "      same_security  \n",
       "0              True  \n",
       "1              True  \n",
       "2             False  \n",
       "3              True  \n",
       "4              True  \n",
       "...             ...  \n",
       "2137           True  \n",
       "2138           True  \n",
       "2139          False  \n",
       "2140           True  \n",
       "2141           True  \n",
       "\n",
       "[2142 rows x 6 columns]"
      ]
     },
     "execution_count": 19,
     "metadata": {},
     "output_type": "execute_result"
    }
   ],
   "source": [
    "df.drop_duplicates()"
   ]
  },
  {
   "cell_type": "code",
   "execution_count": 20,
   "id": "85bdad1c-d9f2-45b3-a25a-e284d71a507b",
   "metadata": {},
   "outputs": [
    {
     "name": "stdout",
     "output_type": "stream",
     "text": [
      "Requirement already satisfied: matplotlib in c:\\users\\system 53\\anaconda3\\lib\\site-packages (3.10.0)\n",
      "Requirement already satisfied: contourpy>=1.0.1 in c:\\users\\system 53\\anaconda3\\lib\\site-packages (from matplotlib) (1.3.1)\n",
      "Requirement already satisfied: cycler>=0.10 in c:\\users\\system 53\\anaconda3\\lib\\site-packages (from matplotlib) (0.11.0)\n",
      "Requirement already satisfied: fonttools>=4.22.0 in c:\\users\\system 53\\anaconda3\\lib\\site-packages (from matplotlib) (4.55.3)\n",
      "Requirement already satisfied: kiwisolver>=1.3.1 in c:\\users\\system 53\\anaconda3\\lib\\site-packages (from matplotlib) (1.4.8)\n",
      "Requirement already satisfied: numpy>=1.23 in c:\\users\\system 53\\anaconda3\\lib\\site-packages (from matplotlib) (2.1.3)\n",
      "Requirement already satisfied: packaging>=20.0 in c:\\users\\system 53\\anaconda3\\lib\\site-packages (from matplotlib) (24.2)\n",
      "Requirement already satisfied: pillow>=8 in c:\\users\\system 53\\anaconda3\\lib\\site-packages (from matplotlib) (11.1.0)\n",
      "Requirement already satisfied: pyparsing>=2.3.1 in c:\\users\\system 53\\anaconda3\\lib\\site-packages (from matplotlib) (3.2.0)\n",
      "Requirement already satisfied: python-dateutil>=2.7 in c:\\users\\system 53\\anaconda3\\lib\\site-packages (from matplotlib) (2.9.0.post0)\n",
      "Requirement already satisfied: six>=1.5 in c:\\users\\system 53\\anaconda3\\lib\\site-packages (from python-dateutil>=2.7->matplotlib) (1.17.0)\n",
      "Note: you may need to restart the kernel to use updated packages.\n"
     ]
    }
   ],
   "source": [
    "pip install matplotlib"
   ]
  },
  {
   "cell_type": "code",
   "execution_count": 21,
   "id": "b122c06d-38ed-438f-b3e8-0a69f0b64568",
   "metadata": {},
   "outputs": [],
   "source": [
    "import matplotlib.pyplot as plt"
   ]
  },
  {
   "cell_type": "code",
   "execution_count": 22,
   "id": "83b9e5fd-3b5d-48f8-a919-2f5f317dc37b",
   "metadata": {},
   "outputs": [
    {
     "data": {
      "text/plain": [
       "(array([518., 346., 247., 225., 203., 152., 138., 122., 103.,  88.]),\n",
       " array([  0.,  84., 168., 252., 336., 420., 504., 588., 672., 756., 840.]),\n",
       " <BarContainer object of 10 artists>)"
      ]
     },
     "execution_count": 22,
     "metadata": {},
     "output_type": "execute_result"
    },
    {
     "data": {
      "image/png": "[encoded data removed]",
      "text/plain": [
       "<Figure size 640x480 with 1 Axes>"
      ]
     },
     "metadata": {},
     "output_type": "display_data"
    }
   ],
   "source": [
    "plt.hist(df[\"ticker_x\"])"
   ]
  },
  {
   "cell_type": "code",
   "execution_count": 23,
   "id": "78fb0092-acd7-4541-88bd-5e86d10bb876",
   "metadata": {},
   "outputs": [],
   "source": [
    "from sklearn.preprocessing import LabelEncoder"
   ]
  },
  {
   "cell_type": "code",
   "execution_count": 24,
   "id": "5586e84c-3cc9-4b3f-a599-c096a8ca7dd6",
   "metadata": {},
   "outputs": [],
   "source": [
    "le=LabelEncoder()"
   ]
  },
  {
   "cell_type": "code",
   "execution_count": 25,
   "id": "bf1f4567-5385-4c8f-b5af-b48ea1a3f630",
   "metadata": {},
   "outputs": [],
   "source": [
    "df[\"description_x\"]=le.fit_transform(df[\"description_x\"])\n",
    "df[\"description_y\"]=le.fit_transform(df[\"description_y\"])\n",
    "df[\"ticker_x\"]=le.fit_transform(df[\"ticker_x\"])\n",
    "df[\"ticker_y\"]=le.fit_transform(df[\"ticker_y\"])"
   ]
  },
  {
   "cell_type": "code",
   "execution_count": 26,
   "id": "80018cd5-ff44-4c08-bb1c-2d435118cf34",
   "metadata": {},
   "outputs": [
    {
     "data": {
      "text/html": [
       "<div>\n",
       "<style scoped>\n",
       "    .dataframe tbody tr th:only-of-type {\n",
       "        vertical-align: middle;\n",
       "    }\n",
       "\n",
       "    .dataframe tbody tr th {\n",
       "        vertical-align: top;\n",
       "    }\n",
       "\n",
       "    .dataframe thead th {\n",
       "        text-align: right;\n",
       "    }\n",
       "</style>\n",
       "<table border=\"1\" class=\"dataframe\">\n",
       "  <thead>\n",
       "    <tr style=\"text-align: right;\">\n",
       "      <th></th>\n",
       "      <th>Unnamed: 0</th>\n",
       "      <th>description_x</th>\n",
       "      <th>description_y</th>\n",
       "      <th>ticker_x</th>\n",
       "      <th>ticker_y</th>\n",
       "      <th>same_security</th>\n",
       "    </tr>\n",
       "  </thead>\n",
       "  <tbody>\n",
       "    <tr>\n",
       "      <th>0</th>\n",
       "      <td>0</td>\n",
       "      <td>461</td>\n",
       "      <td>478</td>\n",
       "      <td>233</td>\n",
       "      <td>262</td>\n",
       "      <td>True</td>\n",
       "    </tr>\n",
       "    <tr>\n",
       "      <th>1</th>\n",
       "      <td>1</td>\n",
       "      <td>998</td>\n",
       "      <td>1013</td>\n",
       "      <td>250</td>\n",
       "      <td>281</td>\n",
       "      <td>True</td>\n",
       "    </tr>\n",
       "    <tr>\n",
       "      <th>2</th>\n",
       "      <td>2</td>\n",
       "      <td>1421</td>\n",
       "      <td>1430</td>\n",
       "      <td>775</td>\n",
       "      <td>783</td>\n",
       "      <td>False</td>\n",
       "    </tr>\n",
       "    <tr>\n",
       "      <th>3</th>\n",
       "      <td>3</td>\n",
       "      <td>366</td>\n",
       "      <td>388</td>\n",
       "      <td>184</td>\n",
       "      <td>205</td>\n",
       "      <td>True</td>\n",
       "    </tr>\n",
       "    <tr>\n",
       "      <th>4</th>\n",
       "      <td>4</td>\n",
       "      <td>1508</td>\n",
       "      <td>1501</td>\n",
       "      <td>700</td>\n",
       "      <td>706</td>\n",
       "      <td>True</td>\n",
       "    </tr>\n",
       "    <tr>\n",
       "      <th>...</th>\n",
       "      <td>...</td>\n",
       "      <td>...</td>\n",
       "      <td>...</td>\n",
       "      <td>...</td>\n",
       "      <td>...</td>\n",
       "      <td>...</td>\n",
       "    </tr>\n",
       "    <tr>\n",
       "      <th>2137</th>\n",
       "      <td>2137</td>\n",
       "      <td>308</td>\n",
       "      <td>325</td>\n",
       "      <td>152</td>\n",
       "      <td>170</td>\n",
       "      <td>True</td>\n",
       "    </tr>\n",
       "    <tr>\n",
       "      <th>2138</th>\n",
       "      <td>2138</td>\n",
       "      <td>278</td>\n",
       "      <td>288</td>\n",
       "      <td>141</td>\n",
       "      <td>159</td>\n",
       "      <td>True</td>\n",
       "    </tr>\n",
       "    <tr>\n",
       "      <th>2139</th>\n",
       "      <td>2139</td>\n",
       "      <td>896</td>\n",
       "      <td>445</td>\n",
       "      <td>495</td>\n",
       "      <td>256</td>\n",
       "      <td>False</td>\n",
       "    </tr>\n",
       "    <tr>\n",
       "      <th>2140</th>\n",
       "      <td>2140</td>\n",
       "      <td>378</td>\n",
       "      <td>724</td>\n",
       "      <td>383</td>\n",
       "      <td>417</td>\n",
       "      <td>True</td>\n",
       "    </tr>\n",
       "    <tr>\n",
       "      <th>2141</th>\n",
       "      <td>2141</td>\n",
       "      <td>317</td>\n",
       "      <td>336</td>\n",
       "      <td>157</td>\n",
       "      <td>178</td>\n",
       "      <td>True</td>\n",
       "    </tr>\n",
       "  </tbody>\n",
       "</table>\n",
       "<p>2142 rows × 6 columns</p>\n",
       "</div>"
      ],
      "text/plain": [
       "      Unnamed: 0  description_x  description_y  ticker_x  ticker_y  \\\n",
       "0              0            461            478       233       262   \n",
       "1              1            998           1013       250       281   \n",
       "2              2           1421           1430       775       783   \n",
       "3              3            366            388       184       205   \n",
       "4              4           1508           1501       700       706   \n",
       "...          ...            ...            ...       ...       ...   \n",
       "2137        2137            308            325       152       170   \n",
       "2138        2138            278            288       141       159   \n",
       "2139        2139            896            445       495       256   \n",
       "2140        2140            378            724       383       417   \n",
       "2141        2141            317            336       157       178   \n",
       "\n",
       "      same_security  \n",
       "0              True  \n",
       "1              True  \n",
       "2             False  \n",
       "3              True  \n",
       "4              True  \n",
       "...             ...  \n",
       "2137           True  \n",
       "2138           True  \n",
       "2139          False  \n",
       "2140           True  \n",
       "2141           True  \n",
       "\n",
       "[2142 rows x 6 columns]"
      ]
     },
     "execution_count": 26,
     "metadata": {},
     "output_type": "execute_result"
    }
   ],
   "source": [
    "df"
   ]
  },
  {
   "cell_type": "code",
   "execution_count": 27,
   "id": "470b00b3-05dd-42fa-af4e-022bb39e3e6a",
   "metadata": {},
   "outputs": [
    {
     "data": {
      "text/plain": [
       "{'whiskers': [<matplotlib.lines.Line2D at 0x1225275d810>,\n",
       "  <matplotlib.lines.Line2D at 0x1225275d950>],\n",
       " 'caps': [<matplotlib.lines.Line2D at 0x1225275da90>,\n",
       "  <matplotlib.lines.Line2D at 0x1225275dbd0>],\n",
       " 'boxes': [<matplotlib.lines.Line2D at 0x1225275d6d0>],\n",
       " 'medians': [<matplotlib.lines.Line2D at 0x1225275dd10>],\n",
       " 'fliers': [<matplotlib.lines.Line2D at 0x1225275de50>],\n",
       " 'means': []}"
      ]
     },
     "execution_count": 27,
     "metadata": {},
     "output_type": "execute_result"
    },
    {
     "data": {
      "image/png": "[encoded data removed]",
      "text/plain": [
       "<Figure size 640x480 with 1 Axes>"
      ]
     },
     "metadata": {},
     "output_type": "display_data"
    }
   ],
   "source": [
    "plt.boxplot(df[\"ticker_x\"])"
   ]
  },
  {
   "cell_type": "code",
   "execution_count": 28,
   "id": "4234c20d-f038-40cc-8d03-e3500119200b",
   "metadata": {},
   "outputs": [
    {
     "data": {
      "text/plain": [
       "<matplotlib.collections.PathCollection at 0x122510f78c0>"
      ]
     },
     "execution_count": 28,
     "metadata": {},
     "output_type": "execute_result"
    },
    {
     "data": {
      "image/png": "[encoded data removed]",
      "text/plain": [
       "<Figure size 640x480 with 1 Axes>"
      ]
     },
     "metadata": {},
     "output_type": "display_data"
    }
   ],
   "source": [
    "plt.scatter(df[\"ticker_x\"],df[\"description_x\"])"
   ]
  },
  {
   "cell_type": "code",
   "execution_count": 29,
   "id": "4a4f5a69-500a-4466-8102-7f983e705639",
   "metadata": {},
   "outputs": [
    {
     "name": "stdout",
     "output_type": "stream",
     "text": [
      "Requirement already satisfied: nltk in c:\\users\\system 53\\anaconda3\\lib\\site-packages (3.9.1)Note: you may need to restart the kernel to use updated packages.\n",
      "\n",
      "Requirement already satisfied: click in c:\\users\\system 53\\anaconda3\\lib\\site-packages (from nltk) (8.1.8)\n",
      "Requirement already satisfied: joblib in c:\\users\\system 53\\anaconda3\\lib\\site-packages (from nltk) (1.4.2)\n",
      "Requirement already satisfied: regex>=2021.8.3 in c:\\users\\system 53\\anaconda3\\lib\\site-packages (from nltk) (2024.11.6)\n",
      "Requirement already satisfied: tqdm in c:\\users\\system 53\\anaconda3\\lib\\site-packages (from nltk) (4.67.1)\n",
      "Requirement already satisfied: colorama in c:\\users\\system 53\\anaconda3\\lib\\site-packages (from click->nltk) (0.4.6)\n"
     ]
    }
   ],
   "source": [
    "pip install nltk"
   ]
  },
  {
   "cell_type": "code",
   "execution_count": 30,
   "id": "e7d91ffd-d0ad-4a89-99ce-19151145ec38",
   "metadata": {},
   "outputs": [
    {
     "name": "stdout",
     "output_type": "stream",
     "text": [
      "['sample', 'sentence', 'showing', 'stop', 'words', 'filtration']\n"
     ]
    },
    {
     "name": "stderr",
     "output_type": "stream",
     "text": [
      "[nltk_data] Downloading package punkt to C:\\Users\\SYSTEM\n",
      "[nltk_data]     53\\AppData\\Roaming\\nltk_data...\n",
      "[nltk_data]   Package punkt is already up-to-date!\n",
      "[nltk_data] Downloading package stopwords to C:\\Users\\SYSTEM\n",
      "[nltk_data]     53\\AppData\\Roaming\\nltk_data...\n",
      "[nltk_data]   Package stopwords is already up-to-date!\n"
     ]
    }
   ],
   "source": [
    "# Imports\n",
    "import numpy as np\n",
    "import pandas as pd\n",
    "from sklearn.feature_extraction.text import CountVectorizer\n",
    "import nltk\n",
    "from nltk.corpus import stopwords\n",
    "from nltk.tokenize import word_tokenize\n",
    "import string\n",
    "\n",
    "# Download necessary NLTK resources\n",
    "nltk.download('punkt')\n",
    "nltk.download('stopwords')\n",
    "\n",
    "# Define stopwords\n",
    "stop_words = set(stopwords.words('english'))\n",
    "\n",
    "# Preprocessing function\n",
    "def preprocess_text(text):\n",
    "    # Lowercase\n",
    "    text = text.lower()\n",
    "    # Tokenize\n",
    "    tokens = word_tokenize(text)\n",
    "    # Remove punctuation and stopwords\n",
    "    filtered_tokens = [\n",
    "        word for word in tokens if word.isalpha() and word not in stop_words\n",
    "    ]\n",
    "    return filtered_tokens\n",
    "\n",
    "# Example usage\n",
    "example_text = \"This is a sample sentence, showing off the stop words filtration.\"\n",
    "processed = preprocess_text(example_text)\n",
    "print(processed)"
   ]
  },
  {
   "cell_type": "code",
   "execution_count": 31,
   "id": "279530f6-0928-41c9-9feb-c2830465699c",
   "metadata": {},
   "outputs": [
    {
     "name": "stderr",
     "output_type": "stream",
     "text": [
      "[nltk_data] Downloading package punkt_tab to C:\\Users\\SYSTEM\n",
      "[nltk_data]     53\\AppData\\Roaming\\nltk_data...\n",
      "[nltk_data]   Package punkt_tab is already up-to-date!\n"
     ]
    },
    {
     "data": {
      "text/plain": [
       "True"
      ]
     },
     "execution_count": 31,
     "metadata": {},
     "output_type": "execute_result"
    }
   ],
   "source": [
    "import nltk\n",
    "nltk.download('punkt_tab')  # This will probably fail because it’s not a standard package\n"
   ]
  },
  {
   "cell_type": "code",
   "execution_count": 32,
   "id": "c87fccbb-8992-4032-b1d2-b1a807d2df06",
   "metadata": {},
   "outputs": [
    {
     "name": "stdout",
     "output_type": "stream",
     "text": [
      "['sample', 'sentence', 'showing', 'stop', 'words', 'filtration']\n"
     ]
    }
   ],
   "source": [
    "from nltk.tokenize import TreebankWordTokenizer\n",
    "\n",
    "tokenizer = TreebankWordTokenizer()\n",
    "\n",
    "def preprocess_text(text):\n",
    "    text = text.lower()\n",
    "    tokens = tokenizer.tokenize(text)\n",
    "    filtered_tokens = [w for w in tokens if w.isalpha() and w not in stop_words]\n",
    "    return filtered_tokens\n",
    "\n",
    "example_text = \"This is a sample sentence, showing off the stop words filtration.\"\n",
    "processed = preprocess_text(example_text)\n",
    "print(processed)\n"
   ]
  },
  {
   "cell_type": "code",
   "execution_count": 33,
   "id": "28d139e8-470f-450a-9192-8aa5d8d48ebd",
   "metadata": {},
   "outputs": [
    {
     "name": "stdout",
     "output_type": "stream",
     "text": [
      "Cosine Similarity Matrix (TF-IDF):\n",
      "[[1.         0.44333251 0.        ]\n",
      " [0.44333251 1.         0.        ]\n",
      " [0.         0.         1.        ]]\n"
     ]
    }
   ],
   "source": [
    "from sklearn.feature_extraction.text import TfidfVectorizer\n",
    "from sklearn.metrics.pairwise import cosine_similarity\n",
    "\n",
    "# Sample text data\n",
    "texts = [\n",
    "    \"I love machine learning\",\n",
    "    \"Machine learning is amazing\",\n",
    "    \"I enjoy sports and outdoor activities\",\n",
    "]\n",
    "\n",
    "# Step 1: Convert texts to TF-IDF vectors\n",
    "vectorizer = TfidfVectorizer()\n",
    "tfidf_matrix = vectorizer.fit_transform(texts)\n",
    "\n",
    "# Step 2: Compute cosine similarity matrix\n",
    "cosine_sim_matrix = cosine_similarity(tfidf_matrix)\n",
    "\n",
    "print(\"Cosine Similarity Matrix (TF-IDF):\")\n",
    "print(cosine_sim_matrix)\n"
   ]
  },
  {
   "cell_type": "code",
   "execution_count": 34,
   "id": "ec10e4dc-768c-4d75-a6c0-a0377f26529d",
   "metadata": {},
   "outputs": [
    {
     "name": "stdout",
     "output_type": "stream",
     "text": [
      "Requirement already satisfied: pip in c:\\users\\system 53\\anaconda3\\lib\\site-packages (25.1.1)\n",
      "Requirement already satisfied: setuptools in c:\\users\\system 53\\anaconda3\\lib\\site-packages (80.9.0)\n",
      "Requirement already satisfied: wheel in c:\\users\\system 53\\anaconda3\\lib\\site-packages (0.45.1)\n",
      "Note: you may need to restart the kernel to use updated packages.\n"
     ]
    }
   ],
   "source": [
    "pip install --upgrade pip setuptools wheel"
   ]
  },
  {
   "cell_type": "code",
   "execution_count": 35,
   "id": "d6dc8f04-22ba-42d6-9d1d-60adf9fd05ae",
   "metadata": {},
   "outputs": [
    {
     "name": "stdout",
     "output_type": "stream",
     "text": [
      "Collecting gensim\n",
      "  Using cached gensim-4.3.3.tar.gz (23.3 MB)\n",
      "  Installing build dependencies: started\n",
      "  Installing build dependencies: finished with status 'done'\n",
      "  Getting requirements to build wheel: started\n",
      "  Getting requirements to build wheel: finished with status 'done'\n",
      "  Preparing metadata (pyproject.toml): started\n",
      "  Preparing metadata (pyproject.toml): finished with status 'done'\n",
      "Collecting numpy<2.0,>=1.18.5 (from gensim)\n",
      "  Using cached numpy-1.26.4.tar.gz (15.8 MB)\n",
      "  Installing build dependencies: started\n",
      "  Installing build dependencies: finished with status 'done'\n",
      "  Getting requirements to build wheel: started\n",
      "  Getting requirements to build wheel: finished with status 'done'\n",
      "  Installing backend dependencies: started\n",
      "  Installing backend dependencies: finished with status 'done'\n",
      "  Preparing metadata (pyproject.toml): started\n",
      "  Preparing metadata (pyproject.toml): finished with status 'error'\n",
      "Note: you may need to restart the kernel to use updated packages.\n"
     ]
    },
    {
     "name": "stderr",
     "output_type": "stream",
     "text": [
      "  error: subprocess-exited-with-error\n",
      "  \n",
      "  Preparing metadata (pyproject.toml) did not run successfully.\n",
      "  exit code: 1\n",
      "  \n",
      "  [21 lines of output]\n",
      "  + C:\\Users\\SYSTEM 53\\anaconda3\\python.exe C:\\Users\\SYSTEM 53\\AppData\\Local\\Temp\\pip-install-bakbaefa\\numpy_a00421ece29248f8afa0c63e9666be59\\vendored-meson\\meson\\meson.py setup C:\\Users\\SYSTEM 53\\AppData\\Local\\Temp\\pip-install-bakbaefa\\numpy_a00421ece29248f8afa0c63e9666be59 C:\\Users\\SYSTEM 53\\AppData\\Local\\Temp\\pip-install-bakbaefa\\numpy_a00421ece29248f8afa0c63e9666be59\\.mesonpy-q44sdvq8 -Dbuildtype=release -Db_ndebug=if-release -Db_vscrt=md --native-file=C:\\Users\\SYSTEM 53\\AppData\\Local\\Temp\\pip-install-bakbaefa\\numpy_a00421ece29248f8afa0c63e9666be59\\.mesonpy-q44sdvq8\\meson-python-native-file.ini\n",
      "  The Meson build system\n",
      "  Version: 1.2.99\n",
      "  Source dir: C:\\Users\\SYSTEM 53\\AppData\\Local\\Temp\\pip-install-bakbaefa\\numpy_a00421ece29248f8afa0c63e9666be59\n",
      "  Build dir: C:\\Users\\SYSTEM 53\\AppData\\Local\\Temp\\pip-install-bakbaefa\\numpy_a00421ece29248f8afa0c63e9666be59\\.mesonpy-q44sdvq8\n",
      "  Build type: native build\n",
      "  Project name: NumPy\n",
      "  Project version: 1.26.4\n",
      "  WARNING: Failed to activate VS environment: Could not find C:\\Program Files (x86)\\Microsoft Visual Studio\\Installer\\vswhere.exe\n",
      "  \n",
      "  ..\\meson.build:1:0: ERROR: Unknown compiler(s): [['icl'], ['cl'], ['cc'], ['gcc'], ['clang'], ['clang-cl'], ['pgcc']]\n",
      "  The following exception(s) were encountered:\n",
      "  Running `icl \"\"` gave \"[WinError 2] The system cannot find the file specified\"\n",
      "  Running `cl /?` gave \"[WinError 2] The system cannot find the file specified\"\n",
      "  Running `cc --version` gave \"[WinError 2] The system cannot find the file specified\"\n",
      "  Running `gcc --version` gave \"[WinError 2] The system cannot find the file specified\"\n",
      "  Running `clang --version` gave \"[WinError 2] The system cannot find the file specified\"\n",
      "  Running `clang-cl /?` gave \"[WinError 2] The system cannot find the file specified\"\n",
      "  Running `pgcc --version` gave \"[WinError 2] The system cannot find the file specified\"\n",
      "  \n",
      "  A full log can be found at C:\\Users\\SYSTEM 53\\AppData\\Local\\Temp\\pip-install-bakbaefa\\numpy_a00421ece29248f8afa0c63e9666be59\\.mesonpy-q44sdvq8\\meson-logs\\meson-log.txt\n",
      "  [end of output]\n",
      "  \n",
      "  note: This error originates from a subprocess, and is likely not a problem with pip.\n",
      "error: metadata-generation-failed\n",
      "\n",
      "Encountered error while generating package metadata.\n",
      "\n",
      "See above for output.\n",
      "\n",
      "note: This is an issue with the package mentioned above, not pip.\n",
      "hint: See above for details.\n"
     ]
    }
   ],
   "source": [
    "pip install gensim"
   ]
  },
  {
   "cell_type": "code",
   "execution_count": 36,
   "id": "0808dc02-b0f3-492f-b8a9-6cd260c61567",
   "metadata": {},
   "outputs": [
    {
     "name": "stdout",
     "output_type": "stream",
     "text": [
      "Cosine Similarity Matrix (Word Embeddings):\n",
      "[[1.         0.9640445  0.94585971]\n",
      " [0.9640445  1.         0.93249464]\n",
      " [0.94585971 0.93249464 1.        ]]\n"
     ]
    }
   ],
   "source": [
    "import numpy as np\n",
    "from sklearn.metrics.pairwise import cosine_similarity\n",
    "# from gensim.models import KeyedVectors  # Uncomment if you have gensim and real embeddings\n",
    "\n",
    "class MockModel:\n",
    "    def __init__(self):\n",
    "        self.vocab = {'machine', 'learning', 'love', 'amazing', 'enjoy', 'sports', 'outdoor', 'activities', 'is', 'and', 'i'}\n",
    "\n",
    "    def __contains__(self, word):\n",
    "        return word in self.vocab\n",
    "\n",
    "    def get_vector(self, word):\n",
    "        # Use a deterministic random seed per word to generate reproducible vectors\n",
    "        np.random.seed(hash(word) % 123456)\n",
    "        return np.random.rand(300)\n",
    "\n",
    "model = MockModel()\n",
    "\n",
    "texts = [\n",
    "    \"I love machine learning\",\n",
    "    \"Machine learning is amazing\",\n",
    "    \"I enjoy sports and outdoor activities\",\n",
    "]\n",
    "\n",
    "def text_to_avg_vector(text, model):\n",
    "    words = text.lower().split()\n",
    "    vectors = [model.get_vector(w) for w in words if w in model]\n",
    "    if not vectors:\n",
    "        return np.zeros(300)\n",
    "    return np.mean(vectors, axis=0)\n",
    "\n",
    "# Create vector representations of each text\n",
    "vectors = np.vstack([text_to_avg_vector(text, model) for text in texts])\n",
    "\n",
    "# Compute cosine similarity matrix between text vectors\n",
    "cosine_sim_matrix = cosine_similarity(vectors)\n",
    "\n",
    "print(\"Cosine Similarity Matrix (Word Embeddings):\")\n",
    "print(cosine_sim_matrix)\n"
   ]
  },
  {
   "cell_type": "code",
   "execution_count": 37,
   "id": "5f13d276-cd4d-47af-81c6-36ba222a9755",
   "metadata": {},
   "outputs": [
    {
     "name": "stdout",
     "output_type": "stream",
     "text": [
      "Cosine Similarity Matrix (TF-IDF):\n",
      "[[1.         0.44333251 0.        ]\n",
      " [0.44333251 1.         0.        ]\n",
      " [0.         0.         1.        ]]\n"
     ]
    }
   ],
   "source": [
    "from sklearn.feature_extraction.text import TfidfVectorizer\n",
    "from sklearn.metrics.pairwise import cosine_similarity\n",
    "\n",
    "texts = [\n",
    "    \"I love machine learning\",\n",
    "    \"Machine learning is amazing\",\n",
    "    \"I enjoy sports and outdoor activities\",\n",
    "]\n",
    "\n",
    "vectorizer = TfidfVectorizer()\n",
    "tfidf_matrix = vectorizer.fit_transform(texts)\n",
    "\n",
    "cosine_sim_matrix = cosine_similarity(tfidf_matrix)\n",
    "\n",
    "print(\"Cosine Similarity Matrix (TF-IDF):\")\n",
    "print(cosine_sim_matrix)\n"
   ]
  },
  {
   "cell_type": "code",
   "execution_count": 38,
   "id": "9665f2b9-b178-4c3a-91c9-e2bb110d0a90",
   "metadata": {},
   "outputs": [
    {
     "name": "stdout",
     "output_type": "stream",
     "text": [
      "Requirement already satisfied: sentence-transformers in c:\\users\\system 53\\anaconda3\\lib\\site-packages (5.0.0)\n",
      "Requirement already satisfied: transformers<5.0.0,>=4.41.0 in c:\\users\\system 53\\anaconda3\\lib\\site-packages (from sentence-transformers) (4.54.0)\n",
      "Requirement already satisfied: tqdm in c:\\users\\system 53\\anaconda3\\lib\\site-packages (from sentence-transformers) (4.67.1)\n",
      "Requirement already satisfied: torch>=1.11.0 in c:\\users\\system 53\\anaconda3\\lib\\site-packages (from sentence-transformers) (2.7.1)\n",
      "Requirement already satisfied: scikit-learn in c:\\users\\system 53\\anaconda3\\lib\\site-packages (from sentence-transformers) (1.6.1)\n",
      "Requirement already satisfied: scipy in c:\\users\\system 53\\anaconda3\\lib\\site-packages (from sentence-transformers) (1.15.3)\n",
      "Requirement already satisfied: huggingface-hub>=0.20.0 in c:\\users\\system 53\\anaconda3\\lib\\site-packages (from sentence-transformers) (0.34.1)\n",
      "Requirement already satisfied: Pillow in c:\\users\\system 53\\anaconda3\\lib\\site-packages (from sentence-transformers) (11.1.0)\n",
      "Requirement already satisfied: typing_extensions>=4.5.0 in c:\\users\\system 53\\anaconda3\\lib\\site-packages (from sentence-transformers) (4.12.2)\n",
      "Requirement already satisfied: filelock in c:\\users\\system 53\\anaconda3\\lib\\site-packages (from transformers<5.0.0,>=4.41.0->sentence-transformers) (3.17.0)\n",
      "Requirement already satisfied: numpy>=1.17 in c:\\users\\system 53\\anaconda3\\lib\\site-packages (from transformers<5.0.0,>=4.41.0->sentence-transformers) (2.1.3)\n",
      "Requirement already satisfied: packaging>=20.0 in c:\\users\\system 53\\anaconda3\\lib\\site-packages (from transformers<5.0.0,>=4.41.0->sentence-transformers) (24.2)\n",
      "Requirement already satisfied: pyyaml>=5.1 in c:\\users\\system 53\\anaconda3\\lib\\site-packages (from transformers<5.0.0,>=4.41.0->sentence-transformers) (6.0.2)\n",
      "Requirement already satisfied: regex!=2019.12.17 in c:\\users\\system 53\\anaconda3\\lib\\site-packages (from transformers<5.0.0,>=4.41.0->sentence-transformers) (2024.11.6)\n",
      "Requirement already satisfied: requests in c:\\users\\system 53\\anaconda3\\lib\\site-packages (from transformers<5.0.0,>=4.41.0->sentence-transformers) (2.32.3)\n",
      "Requirement already satisfied: tokenizers<0.22,>=0.21 in c:\\users\\system 53\\anaconda3\\lib\\site-packages (from transformers<5.0.0,>=4.41.0->sentence-transformers) (0.21.2)\n",
      "Requirement already satisfied: safetensors>=0.4.3 in c:\\users\\system 53\\anaconda3\\lib\\site-packages (from transformers<5.0.0,>=4.41.0->sentence-transformers) (0.5.3)\n",
      "Requirement already satisfied: fsspec>=2023.5.0 in c:\\users\\system 53\\anaconda3\\lib\\site-packages (from huggingface-hub>=0.20.0->sentence-transformers) (2025.3.2)\n",
      "Requirement already satisfied: sympy>=1.13.3 in c:\\users\\system 53\\anaconda3\\lib\\site-packages (from torch>=1.11.0->sentence-transformers) (1.13.3)\n",
      "Requirement already satisfied: networkx in c:\\users\\system 53\\anaconda3\\lib\\site-packages (from torch>=1.11.0->sentence-transformers) (3.4.2)\n",
      "Requirement already satisfied: jinja2 in c:\\users\\system 53\\anaconda3\\lib\\site-packages (from torch>=1.11.0->sentence-transformers) (3.1.6)\n",
      "Requirement already satisfied: setuptools in c:\\users\\system 53\\anaconda3\\lib\\site-packages (from torch>=1.11.0->sentence-transformers) (80.9.0)\n",
      "Requirement already satisfied: mpmath<1.4,>=1.1.0 in c:\\users\\system 53\\anaconda3\\lib\\site-packages (from sympy>=1.13.3->torch>=1.11.0->sentence-transformers) (1.3.0)\n",
      "Requirement already satisfied: colorama in c:\\users\\system 53\\anaconda3\\lib\\site-packages (from tqdm->sentence-transformers) (0.4.6)\n",
      "Requirement already satisfied: MarkupSafe>=2.0 in c:\\users\\system 53\\anaconda3\\lib\\site-packages (from jinja2->torch>=1.11.0->sentence-transformers) (3.0.2)\n",
      "Requirement already satisfied: charset-normalizer<4,>=2 in c:\\users\\system 53\\anaconda3\\lib\\site-packages (from requests->transformers<5.0.0,>=4.41.0->sentence-transformers) (3.3.2)\n",
      "Requirement already satisfied: idna<4,>=2.5 in c:\\users\\system 53\\anaconda3\\lib\\site-packages (from requests->transformers<5.0.0,>=4.41.0->sentence-transformers) (3.7)\n",
      "Requirement already satisfied: urllib3<3,>=1.21.1 in c:\\users\\system 53\\anaconda3\\lib\\site-packages (from requests->transformers<5.0.0,>=4.41.0->sentence-transformers) (2.3.0)\n",
      "Requirement already satisfied: certifi>=2017.4.17 in c:\\users\\system 53\\anaconda3\\lib\\site-packages (from requests->transformers<5.0.0,>=4.41.0->sentence-transformers) (2025.6.15)\n",
      "Requirement already satisfied: joblib>=1.2.0 in c:\\users\\system 53\\anaconda3\\lib\\site-packages (from scikit-learn->sentence-transformers) (1.4.2)\n",
      "Requirement already satisfied: threadpoolctl>=3.1.0 in c:\\users\\system 53\\anaconda3\\lib\\site-packages (from scikit-learn->sentence-transformers) (3.5.0)\n",
      "Note: you may need to restart the kernel to use updated packages.\n"
     ]
    }
   ],
   "source": [
    "pip install sentence-transformers\n"
   ]
  },
  {
   "cell_type": "code",
   "execution_count": 39,
   "id": "a3efc822-f648-4728-acb5-f4a62134d429",
   "metadata": {},
   "outputs": [
    {
     "name": "stdout",
     "output_type": "stream",
     "text": [
      "Similarity Percentage Matrix:\n",
      "[[100.    96.4   94.59]\n",
      " [ 96.4  100.    93.25]\n",
      " [ 94.59  93.25 100.  ]]\n"
     ]
    },
    {
     "data": {
      "image/png": "[encoded data removed]",
      "text/plain": [
       "<Figure size 800x600 with 2 Axes>"
      ]
     },
     "metadata": {},
     "output_type": "display_data"
    }
   ],
   "source": [
    "import numpy as np\n",
    "from sklearn.metrics.pairwise import cosine_similarity\n",
    "import matplotlib.pyplot as plt\n",
    "import seaborn as sns\n",
    "\n",
    "class MockModel:\n",
    "    def __init__(self):\n",
    "        self.vocab = {'machine', 'learning', 'love', 'amazing', 'enjoy', 'sports', 'outdoor', 'activities', 'is', 'and', 'i'}\n",
    "\n",
    "    def __contains__(self, word):\n",
    "        return word in self.vocab\n",
    "\n",
    "    def get_vector(self, word):\n",
    "        np.random.seed(hash(word) % 123456)\n",
    "        return np.random.rand(300)\n",
    "\n",
    "model = MockModel()\n",
    "\n",
    "texts = [\n",
    "    \"I love machine learning\",\n",
    "    \"Machine learning is amazing\",\n",
    "    \"I enjoy sports and outdoor activities\",\n",
    "]\n",
    "\n",
    "def text_to_avg_vector(text, model):\n",
    "    words = text.lower().split()\n",
    "    vectors = [model.get_vector(w) for w in words if w in model]\n",
    "    if not vectors:\n",
    "        return np.zeros(300)\n",
    "    return np.mean(vectors, axis=0)\n",
    "\n",
    "# Create vector representations of texts\n",
    "vectors = np.vstack([text_to_avg_vector(text, model) for text in texts])\n",
    "\n",
    "# Compute cosine similarity matrix\n",
    "cosine_sim_matrix = cosine_similarity(vectors)\n",
    "\n",
    "# Convert similarity to percentage (0% to 100%)\n",
    "similarity_percentage = cosine_sim_matrix * 100\n",
    "\n",
    "print(\"Similarity Percentage Matrix:\")\n",
    "print(np.round(similarity_percentage, 2))  # Rounded for readability\n",
    "\n",
    "# Plot heatmap if multiple texts\n",
    "if len(texts) > 1:\n",
    "    plt.figure(figsize=(8, 6))\n",
    "    sns.heatmap(similarity_percentage, annot=True, cmap=\"coolwarm\", xticklabels=texts, yticklabels=texts, fmt=\".2f\")\n",
    "    plt.title(\"Text Similarity Heatmap (%)\")\n",
    "    plt.xticks(rotation=45, ha='right')\n",
    "    plt.yticks(rotation=0)\n",
    "    plt.tight_layout()\n",
    "    plt.show()"
   ]
  }
 ],
 "metadata": {
  "kernelspec": {
   "display_name": "Python [conda env:base] *",
   "language": "python",
   "name": "conda-base-py"
  },
  "language_info": {
   "codemirror_mode": {
    "name": "ipython",
    "version": 3
   },
   "file_extension": ".py",
   "mimetype": "text/x-python",
   "name": "python",
   "nbconvert_exporter": "python",
   "pygments_lexer": "ipython3",
   "version": "3.13.5"
  }
 },
 "nbformat": 4,
 "nbformat_minor": 5
}
